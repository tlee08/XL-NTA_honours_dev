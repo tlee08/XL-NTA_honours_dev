{
 "cells": [
  {
   "cell_type": "code",
   "execution_count": null,
   "metadata": {},
   "outputs": [],
   "source": [
    "from funcs.CSIFuncs import *\n",
    "from funcs.HelperFuncs import *\n",
    "\n",
    "from multiprocessing import Pool\n",
    "import pandas as pd\n",
    "import matplotlib.pyplot as plt\n",
    "from glob import glob\n",
    "\n",
    "%matplotlib inline\n",
    "\n",
    "pd.options.display.float_format = '{:6f}'.format\n",
    "\n",
    "import warnings\n",
    "warnings.filterwarnings(\"ignore\")\n"
   ]
  },
  {
   "cell_type": "markdown",
   "metadata": {},
   "source": [
    "## Setting configs\n"
   ]
  },
  {
   "cell_type": "code",
   "execution_count": null,
   "metadata": {},
   "outputs": [],
   "source": [
    "# Directory storing the CSI and WLAN captures\n",
    "resources_dir = \"/Volumes/tim_details/tim_honours/CAPTURES\"\n",
    "\n",
    "# Directory to save plots to\n",
    "plt_dir = \"/Users/timothylee/Desktop/Uni/Yr5/Honours/honours_thesis/figures/plt_figs/\"\n",
    "\n",
    "# Supress pd scientific notation\n",
    "pd.set_option('display.float_format', '{:.6f}'.format)\n",
    "\n",
    "# Resolution of plots\n",
    "plt.rcParams[\"figure.dpi\"] = 100 # 300\n",
    "\n",
    "# Backend to generate plots\n",
    "# mpl.use(\"agg\")\n",
    "# %matplotlib ipympl\n",
    "%matplotlib inline\n",
    "\n",
    "# plt figure style\n",
    "fig_style = \"seaborn-v0_8-whitegrid\"\n",
    "\n",
    "# colormaps\n",
    "cmap_qual = plt.get_cmap(\"Pastel1\")\n",
    "cmap_seq = plt.get_cmap(\"viridis\")\n",
    "cmap_cycl = plt.get_cmap(\"twilight\")\n"
   ]
  },
  {
   "cell_type": "markdown",
   "metadata": {},
   "source": [
    "## Storing CSI data as h5 tables"
   ]
  },
  {
   "cell_type": "code",
   "execution_count": null,
   "metadata": {},
   "outputs": [],
   "source": [
    "procs = 4\n",
    "\n",
    "dirs = glob(\"/Volumes/tim_details/tim_honours/CAPTURES/*/*\")\n",
    "\n",
    "for dir in dirs:\n",
    "    # Setting up dirs\n",
    "    clean_dir_junk(os.path.join(dir, \"csi\"))\n",
    "    make_dir(os.path.join(dir, \"csi_h5\"))\n",
    "    # Running multiprocessing: csi pcap to h5\n",
    "    starargs = [(dir, get_name(i)) for i in os.listdir(os.path.join(dir, \"csi\"))]\n",
    "    with Pool(procs, initializer=csi_to_df_init_mp) as pool:\n",
    "        pool.starmap(csi_to_df_mp, starargs)"
   ]
  },
  {
   "cell_type": "code",
   "execution_count": null,
   "metadata": {},
   "outputs": [],
   "source": [
    "fp = \"/Volumes/tim_details/tim_honours/CAPTURES/client_pc_50/v=A3gUpodXMv0/csi_h5/cap_25.h5\"\n",
    "display(pd.read_hdf(fp, key=H5_CSI_KEY, mode=\"r\"))"
   ]
  },
  {
   "cell_type": "markdown",
   "metadata": {},
   "source": [
    "## Reading and Processing Nexmon CSI PCAP files\n"
   ]
  },
  {
   "cell_type": "code",
   "execution_count": null,
   "metadata": {},
   "outputs": [],
   "source": [
    "# Reading csi info (including metadata)\n",
    "frames = read_csi(csi_fp)\n",
    "# Checking that the CSI is valid before continuing\n",
    "if check_csi(frames[\"csi\"]):\n",
    "    # Processing csi info\n",
    "    csi = process_csi(frames[\"csi\"], True, True, 5)\n",
    "    # Making csi amplitude plots\n",
    "    # fig, axes = CSIFuncs.plot_all(csi)\n",
    "    # fig.savefig(plot_fp)\n",
    "    # plt.close(fig)"
   ]
  },
  {
   "cell_type": "markdown",
   "metadata": {},
   "source": [
    "## Analysing CSI time-series characteristics (packets per second)"
   ]
  },
  {
   "cell_type": "code",
   "execution_count": null,
   "metadata": {},
   "outputs": [],
   "source": [
    "def csi_timeseries(fps):\n",
    "    fig, axes = plt.subplots(nrows=2)\n",
    "    for fp in fps:\n",
    "        # Reading csi info (including metadata)\n",
    "        frames = read_csi(fp)\n",
    "        # Checking that the CSI is valid before continuing\n",
    "        if check_csi(frames[\"csi\"]):\n",
    "            # Processing csi info\n",
    "            csi = process_csi(frames[\"csi\"], True, True, 5)\n",
    "        else:\n",
    "            continue\n",
    "\n",
    "        # Setting up single capture dataframe\n",
    "        df = pd.DataFrame(\n",
    "            {   \n",
    "                \"ts_sec_comb\": frames[\"ts_sec_comb\"] - frames[\"ts_sec_comb\"][0],\n",
    "            },\n",
    "        )\n",
    "        # Adding CSI subcarrier vals as columns\n",
    "        for i in np.arange(csi.shape[1]):\n",
    "            df[f\"subc_{i+1}\"] = csi[:, i]\n",
    "\n",
    "        # Generating time-bins\n",
    "        interval = 1\n",
    "        series = df[\"ts_sec_comb\"]\n",
    "        start = np.floor(series.min())\n",
    "        end = np.ceil(series.max()) + interval\n",
    "        bins = np.arange(start, end, interval)\n",
    "        df[\"ts_bin\"] = pd.cut(series, bins=bins, include_lowest=True, labels=bins[:-1])\n",
    "\n",
    "        # Grouping and aggregating data on time bins\n",
    "        agg_dict = {\"ts_sec_comb\": \"count\"}\n",
    "        for i in np.arange(csi.shape[1]):\n",
    "            agg_dict[f\"subc_{i+1}\"] = lambda x: np.nanmean(np.abs(x))\n",
    "        df_binned = df.groupby(\"ts_bin\").agg(agg_dict)\n",
    "        # df_binned = df_binned.fillna(0)\n",
    "        df_binned = df_binned.interpolate(method=\"linear\", axis=0)\n",
    "        df_binned = df_binned.sort_index()\n",
    "        df_binned[\"ts_sec_comb_cumsum\"] = df_binned[\"ts_sec_comb\"].cumsum()\n",
    "\n",
    "        # Visualising data:\n",
    "        # Cumulative packets across time bins\n",
    "        axes[0].plot(\n",
    "            df_binned.index,\n",
    "            df_binned[\"ts_sec_comb_cumsum\"],\n",
    "        )\n",
    "        # CSI amplitudes across time (averaged within time bins)\n",
    "        csi_cols = [f\"subc_{i+1}\" for i in np.arange(csi.shape[1])]\n",
    "        axes[1].pcolormesh(\n",
    "            df_binned[csi_cols].T,\n",
    "        )\n",
    "    return fig, axes\n",
    "\n",
    "\n",
    "fps = glob(\"/Volumes/tim_details/tim_honours/CAPTURES/client_pc_200/v=A3gUpodXMv0/csi/cap_*.pcap\")[:3]\n",
    "fig, axes = csi_timeseries(fps)"
   ]
  },
  {
   "cell_type": "markdown",
   "metadata": {},
   "source": [
    "## Getting summaries of CSI data"
   ]
  },
  {
   "cell_type": "code",
   "execution_count": null,
   "metadata": {},
   "outputs": [],
   "source": [
    "# GETTING SUMMARIES OF A DIRECTORY OF CAPTURES:\n",
    "# nfiles, nframes, statistics\n",
    "import os\n",
    "from glob import glob\n",
    "import numpy as np\n",
    "import matplotlib.pyplot as plt\n",
    "import CSIFuncs\n",
    "\n",
    "dirs = glob(\"/Volumes/tim_details/tim_honours/CAPTURES/*/*\")\n",
    "dirs = [\"/Volumes/tim_details/tim_honours/CAPTURES/client_pi_200/v=mkWKZWMokdI\"]\n",
    "\n",
    "# Getting a summary of each different CSI experiment setup\n",
    "res_arr = {}\n",
    "for dir in dirs:\n",
    "    print(dir)\n",
    "    fps = glob(os.path.join(dir, \"csi/*\"))\n",
    "    res_arr[dir] = CSIFuncs.get_summaries(fps)\n",
    "\n",
    "fig, ax = plt.subplots()\n",
    "for i in res_arr:\n",
    "    res = res_arr[i]\n",
    "    ax.hist(\n",
    "        res[\"nframes\"],\n",
    "        alpha=0.2,\n",
    "        label=f\"{i}\",\n",
    "    )\n",
    "# plt.legend()"
   ]
  },
  {
   "cell_type": "markdown",
   "metadata": {},
   "source": [
    "## Combining CSI from each label combination into an array of 2D arrays\n",
    "- 0 axis: The individual csi capture matrix (i.e. the file)\n",
    "- 1 axis: The frames (note: must be trimmed or padded - same size across all)\n",
    "- 2 axis: The subcarrier\n"
   ]
  },
  {
   "cell_type": "code",
   "execution_count": null,
   "metadata": {},
   "outputs": [],
   "source": [
    "import pandas as pd\n",
    "import os\n",
    "from glob import glob\n",
    "import numpy as np\n",
    "import matplotlib.pyplot as plt\n",
    "\n",
    "dirs = glob(\"/Volumes/tim_details/tim_honours/CAPTURES/*/*\")\n",
    "nframes = 10000\n",
    "\n",
    "for dir in dirs:\n",
    "    print(dir)\n",
    "    fps = glob(os.path.join(dir, \"csi/*\"))\n",
    "    comb_csi = CSIFuncs.combine_csis(fps, nframes)\n",
    "    np.save(os.path.join(dir, \"csi_all.npy\"), comb_csi)\n",
    "\n",
    "# fig, ax = plt.subplots()\n",
    "# CSIFuncs.hist2d_subc(np.abs(csi), fig, ax)\n",
    "# fig, ax = plt.subplots()\n",
    "# CSIFuncs.hist2d_complex(csi, fig, ax)\n",
    "# CSIFuncs.plot_all(csi)"
   ]
  }
 ],
 "metadata": {
  "kernelspec": {
   "display_name": "Python 3",
   "language": "python",
   "name": "python3"
  },
  "language_info": {
   "codemirror_mode": {
    "name": "ipython",
    "version": 3
   },
   "file_extension": ".py",
   "mimetype": "text/x-python",
   "name": "python",
   "nbconvert_exporter": "python",
   "pygments_lexer": "ipython3",
   "version": "3.11.5"
  },
  "orig_nbformat": 4
 },
 "nbformat": 4,
 "nbformat_minor": 2
}
