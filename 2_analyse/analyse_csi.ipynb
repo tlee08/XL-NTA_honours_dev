{
 "cells": [
  {
   "cell_type": "code",
   "execution_count": 1,
   "metadata": {},
   "outputs": [],
   "source": [
    "import CSIFuncs\n",
    "from HelperFuncs import *\n",
    "\n",
    "import warnings\n",
    "warnings.filterwarnings(\"ignore\")\n"
   ]
  },
  {
   "cell_type": "markdown",
   "metadata": {},
   "source": [
    "## Reading and Processing Nexmon CSI PCAP files\n",
    "Can also use csiexplorer.py: `python nexmon_csi_analyser/csiexplorer.py`"
   ]
  },
  {
   "cell_type": "code",
   "execution_count": null,
   "metadata": {},
   "outputs": [],
   "source": [
    "dirs = glob(\"/Volumes/tim_details/tim_honours/CAPTURES/*/*\")\n",
    "\n",
    "for dir in dirs:\n",
    "    # Getting directory paths\n",
    "    csi_dir = os.path.join(dir, \"csi\")\n",
    "    plot_dir = os.path.join(dir, \"csi_plots\")\n",
    "    # Preparing directories\n",
    "    clean_dir_junk(csi_dir)\n",
    "    make_dir(plot_dir)\n",
    "    # Reading each CSI pcap, processing, and saving results\n",
    "    for fp in os.listdir(csi_dir):\n",
    "        name = get_name(fp)\n",
    "        print(f\"{dir} - {name}\")\n",
    "        # Getting filepaths\n",
    "        csi_fp = os.path.join(csi_dir, f\"{name}.pcap\")\n",
    "        plot_fp = os.path.join(plot_dir, f\"{name}.png\")\n",
    "\n",
    "        # If the plot png already exists, then skip\n",
    "        if os.path.isfile(plot_fp):\n",
    "            continue\n",
    "        \n",
    "        # Reading csi info (including metadata)\n",
    "        frames = CSIFuncs.read_csi(csi_fp)\n",
    "        # Checking that the CSI is valid before continuing\n",
    "        if CSIFuncs.check_csi(frames[\"csi\"]):\n",
    "            # Processing csi info\n",
    "            csi = CSIFuncs.process_csi(frames[\"csi\"], True, True, 5)\n",
    "            # Making csi amplitude plots\n",
    "            fig, axes = CSIFuncs.plot_all(csi)\n",
    "            fig.savefig(plot_fp)\n",
    "            fig.clf();\n",
    "plt.close();"
   ]
  },
  {
   "cell_type": "markdown",
   "metadata": {},
   "source": [
    "## Getting summaries of CSI data"
   ]
  },
  {
   "cell_type": "code",
   "execution_count": 2,
   "metadata": {},
   "outputs": [
    {
     "name": "stdout",
     "output_type": "stream",
     "text": [
      "/Volumes/tim_details/tim_honours/CAPTURES/client_pi_200/v=mkWKZWMokdI\n"
     ]
    },
    {
     "data": {
      "image/png": "[encoded data removed]",
      "text/plain": [
       "<Figure size 640x480 with 1 Axes>"
      ]
     },
     "metadata": {},
     "output_type": "display_data"
    }
   ],
   "source": [
    "# GETTING SUMMARIES OF A DIRECTORY OF CAPTURES:\n",
    "# nfiles, nframes, statistics\n",
    "import os\n",
    "from glob import glob\n",
    "import numpy as np\n",
    "import matplotlib.pyplot as plt\n",
    "import CSIFuncs\n",
    "\n",
    "dirs = glob(\"/Volumes/tim_details/tim_honours/CAPTURES/*/*\")\n",
    "dirs = [\"/Volumes/tim_details/tim_honours/CAPTURES/client_pi_200/v=mkWKZWMokdI\"]\n",
    "\n",
    "# Getting a summary of each different CSI experiment setup\n",
    "res_arr = {}\n",
    "for dir in dirs:\n",
    "    print(dir)\n",
    "    fps = glob(os.path.join(dir, \"csi/*\"))\n",
    "    res_arr[dir] = CSIFuncs.get_summaries(fps)\n",
    "\n",
    "fig, ax = plt.subplots()\n",
    "for i in res_arr:\n",
    "    res = res_arr[i]\n",
    "    ax.hist(\n",
    "        res[\"nframes\"],\n",
    "        alpha=0.2,\n",
    "        label=f\"{i}\",\n",
    "    )\n",
    "# plt.legend()"
   ]
  },
  {
   "cell_type": "code",
   "execution_count": 1,
   "metadata": {},
   "outputs": [
    {
     "name": "stdout",
     "output_type": "stream",
     "text": [
      "/Volumes/tim_details/tim_honours/CAPTURES/client_pc_50/v=A3gUpodXMv0\n",
      "/Volumes/tim_details/tim_honours/CAPTURES/client_pc_50/v=3InbMow9IYo\n",
      "/Volumes/tim_details/tim_honours/CAPTURES/client_pc_50/v=mkWKZWMokdI\n",
      "/Volumes/tim_details/tim_honours/CAPTURES/client_pc_50/v=t634q_Voeto\n",
      "/Volumes/tim_details/tim_honours/CAPTURES/client_pc_50/v=w_oGIbFjiCo\n",
      "/Volumes/tim_details/tim_honours/CAPTURES/client_pc_50/v=yve6qo6eowU\n",
      "/Volumes/tim_details/tim_honours/CAPTURES/client_pc_50/v=gxxqdrrpgZc\n",
      "/Volumes/tim_details/tim_honours/CAPTURES/client_pc_50/v=NSW5u1RTxEA\n",
      "/Volumes/tim_details/tim_honours/CAPTURES/client_pc_50/v=t6jlhqNxRYk\n",
      "/Volumes/tim_details/tim_honours/CAPTURES/client_pi_50/v=3InbMow9IYo\n",
      "/Volumes/tim_details/tim_honours/CAPTURES/client_pi_50/v=t634q_Voeto\n",
      "/Volumes/tim_details/tim_honours/CAPTURES/client_pi_50/v=yve6qo6eowU\n",
      "/Volumes/tim_details/tim_honours/CAPTURES/client_pi_50/v=NSW5u1RTxEA\n",
      "/Volumes/tim_details/tim_honours/CAPTURES/client_pi_50/v=A3gUpodXMv0\n",
      "/Volumes/tim_details/tim_honours/CAPTURES/client_pi_50/v=mkWKZWMokdI\n",
      "/Volumes/tim_details/tim_honours/CAPTURES/client_pi_50/v=w_oGIbFjiCo\n",
      "/Volumes/tim_details/tim_honours/CAPTURES/client_pi_50/v=gxxqdrrpgZc\n",
      "/Volumes/tim_details/tim_honours/CAPTURES/client_pi_50/v=t6jlhqNxRYk\n",
      "/Volumes/tim_details/tim_honours/CAPTURES/client_pi_200/v=3InbMow9IYo\n",
      "/Volumes/tim_details/tim_honours/CAPTURES/client_pi_200/v=t634q_Voeto\n",
      "/Volumes/tim_details/tim_honours/CAPTURES/client_pi_200/v=yve6qo6eowU\n",
      "/Volumes/tim_details/tim_honours/CAPTURES/client_pi_200/v=A3gUpodXMv0\n",
      "/Volumes/tim_details/tim_honours/CAPTURES/client_pi_200/v=mkWKZWMokdI\n",
      "/Volumes/tim_details/tim_honours/CAPTURES/client_pi_200/v=w_oGIbFjiCo\n",
      "/Volumes/tim_details/tim_honours/CAPTURES/client_pi_200/v=NSW5u1RTxEA\n",
      "/Volumes/tim_details/tim_honours/CAPTURES/client_pi_200/v=gxxqdrrpgZc\n",
      "/Volumes/tim_details/tim_honours/CAPTURES/client_pi_200/v=t6jlhqNxRYk\n",
      "/Volumes/tim_details/tim_honours/CAPTURES/client_pc_200/v=3InbMow9IYo\n",
      "/Volumes/tim_details/tim_honours/CAPTURES/client_pc_200/v=t634q_Voeto\n",
      "/Volumes/tim_details/tim_honours/CAPTURES/client_pc_200/v=yve6qo6eowU\n",
      "/Volumes/tim_details/tim_honours/CAPTURES/client_pc_200/v=A3gUpodXMv0\n",
      "/Volumes/tim_details/tim_honours/CAPTURES/client_pc_200/v=mkWKZWMokdI\n",
      "/Volumes/tim_details/tim_honours/CAPTURES/client_pc_200/v=w_oGIbFjiCo\n",
      "/Volumes/tim_details/tim_honours/CAPTURES/client_pc_200/v=gxxqdrrpgZc\n",
      "/Volumes/tim_details/tim_honours/CAPTURES/client_pc_200/v=NSW5u1RTxEA\n",
      "/Volumes/tim_details/tim_honours/CAPTURES/client_pc_200/v=t6jlhqNxRYk\n",
      "/Volumes/tim_details/tim_honours/CAPTURES/client_pc_200_wall/v=A3gUpodXMv0\n",
      "/Volumes/tim_details/tim_honours/CAPTURES/client_pc_200_wall/v=3InbMow9IYo\n",
      "/Volumes/tim_details/tim_honours/CAPTURES/client_pc_200_wall/v=t634q_Voeto\n",
      "/Volumes/tim_details/tim_honours/CAPTURES/client_pc_200_wall/v=yve6qo6eowU\n",
      "/Volumes/tim_details/tim_honours/CAPTURES/client_pc_200_wall/v=mkWKZWMokdI\n",
      "/Volumes/tim_details/tim_honours/CAPTURES/client_pc_200_wall/v=w_oGIbFjiCo\n",
      "/Volumes/tim_details/tim_honours/CAPTURES/client_pc_200_wall/v=gxxqdrrpgZc\n",
      "/Volumes/tim_details/tim_honours/CAPTURES/client_pc_200_wall/v=NSW5u1RTxEA\n",
      "/Volumes/tim_details/tim_honours/CAPTURES/client_pc_200_wall/v=t6jlhqNxRYk\n",
      "/Volumes/tim_details/tim_honours/CAPTURES/client_pi_200_wall/v=A3gUpodXMv0\n",
      "/Volumes/tim_details/tim_honours/CAPTURES/client_pi_200_wall/v=3InbMow9IYo\n",
      "/Volumes/tim_details/tim_honours/CAPTURES/client_pi_200_wall/v=t634q_Voeto\n",
      "/Volumes/tim_details/tim_honours/CAPTURES/client_pi_200_wall/v=yve6qo6eowU\n",
      "/Volumes/tim_details/tim_honours/CAPTURES/client_pi_200_wall/v=mkWKZWMokdI\n",
      "/Volumes/tim_details/tim_honours/CAPTURES/client_pi_200_wall/v=w_oGIbFjiCo\n",
      "/Volumes/tim_details/tim_honours/CAPTURES/client_pi_200_wall/v=NSW5u1RTxEA\n",
      "/Volumes/tim_details/tim_honours/CAPTURES/client_pi_200_wall/v=gxxqdrrpgZc\n",
      "/Volumes/tim_details/tim_honours/CAPTURES/client_pi_200_wall/v=t6jlhqNxRYk\n"
     ]
    }
   ],
   "source": [
    "import pandas as pd\n",
    "import os\n",
    "from glob import glob\n",
    "import numpy as np\n",
    "import matplotlib.pyplot as plt\n",
    "import CSIFuncs\n",
    "\n",
    "dirs = glob(\"/Volumes/tim_details/tim_honours/CAPTURES/*/*\")\n",
    "nframes = 10000\n",
    "\n",
    "for dir in dirs:\n",
    "    print(dir)\n",
    "    fps = glob(os.path.join(dir, \"csi/*\"))\n",
    "    comb_csi = CSIFuncs.combine_csis(fps, nframes)\n",
    "    np.save(os.path.join(dir, \"csi_all.npy\"), comb_csi)\n",
    "\n",
    "# fig, ax = plt.subplots()\n",
    "# CSIFuncs.hist2d_subc(np.abs(csi), fig, ax)\n",
    "# fig, ax = plt.subplots()\n",
    "# CSIFuncs.hist2d_complex(csi, fig, ax)\n",
    "# CSIFuncs.plot_all(csi)"
   ]
  },
  {
   "cell_type": "code",
   "execution_count": 8,
   "metadata": {},
   "outputs": [
    {
     "data": {
      "text/plain": [
       "(100, 15000, 64)"
      ]
     },
     "execution_count": 8,
     "metadata": {},
     "output_type": "execute_result"
    }
   ],
   "source": [
    "x = np.load(\"/Volumes/tim_details/tim_honours/CAPTURES/client_pi_200_wall/v=t6jlhqNxRYk/csi_all.npy\")\n",
    "x.shape"
   ]
  },
  {
   "cell_type": "code",
   "execution_count": null,
   "metadata": {},
   "outputs": [],
   "source": []
  }
 ],
 "metadata": {
  "kernelspec": {
   "display_name": "Python 3",
   "language": "python",
   "name": "python3"
  },
  "language_info": {
   "codemirror_mode": {
    "name": "ipython",
    "version": 3
   },
   "file_extension": ".py",
   "mimetype": "text/x-python",
   "name": "python",
   "nbconvert_exporter": "python",
   "pygments_lexer": "ipython3",
   "version": "3.11.5"
  },
  "orig_nbformat": 4
 },
 "nbformat": 4,
 "nbformat_minor": 2
}
