{
 "cells": [
  {
   "cell_type": "code",
   "execution_count": 16,
   "metadata": {},
   "outputs": [],
   "source": [
    "from funcs.CSIFuncs import *\n",
    "from funcs.HelperFuncs import *\n",
    "\n",
    "import pandas as pd\n",
    "import matplotlib.pyplot as plt\n",
    "from glob import glob\n",
    "\n",
    "%matplotlib inline\n",
    "\n",
    "pd.options.display.float_format = '{:6f}'.format\n",
    "\n",
    "import warnings\n",
    "warnings.filterwarnings(\"ignore\")\n"
   ]
  },
  {
   "cell_type": "markdown",
   "metadata": {},
   "source": [
    "## Reading and Processing Nexmon CSI PCAP files\n"
   ]
  },
  {
   "cell_type": "code",
   "execution_count": null,
   "metadata": {},
   "outputs": [],
   "source": [
    "dirs = glob(\"/Volumes/tim_details/tim_honours/CAPTURES/*/*\")\n",
    "\n",
    "for dir in dirs:\n",
    "    # Getting directory paths\n",
    "    csi_dir = os.path.join(dir, \"csi\")\n",
    "    plot_dir = os.path.join(dir, \"csi_plots\")\n",
    "    # Preparing directories\n",
    "    make_dir(plot_dir)\n",
    "    clean_dir_junk(csi_dir)\n",
    "    # Reading each CSI pcap, processing, and saving results\n",
    "    for fp in os.listdir(csi_dir):\n",
    "        name = get_name(fp)\n",
    "        print(f\"{dir} - {name}\")\n",
    "        # Getting filepaths\n",
    "        csi_fp = os.path.join(csi_dir, f\"{name}.pcap\")\n",
    "        plot_fp = os.path.join(plot_dir, f\"{name}.png\")\n",
    "\n",
    "        # If the plot png already exists, then skip\n",
    "        if os.path.isfile(plot_fp):\n",
    "            continue\n",
    "        \n",
    "        # Reading csi info (including metadata)\n",
    "        frames = read_csi(csi_fp)\n",
    "        # Checking that the CSI is valid before continuing\n",
    "        if check_csi(frames[\"csi\"]):\n",
    "            # Processing csi info\n",
    "            csi = process_csi(frames[\"csi\"], True, True, 5)\n",
    "            # Making csi amplitude plots\n",
    "            # fig, axes = CSIFuncs.plot_all(csi)\n",
    "            # fig.savefig(plot_fp)\n",
    "            # plt.close(fig)\n",
    "plt.close();"
   ]
  },
  {
   "cell_type": "markdown",
   "metadata": {},
   "source": [
    "# Storing CSI data as h5 tables"
   ]
  },
  {
   "cell_type": "code",
   "execution_count": 30,
   "metadata": {},
   "outputs": [
    {
     "name": "stdout",
     "output_type": "stream",
     "text": [
      "/Users/timothylee/Desktop/captures/client_pi_200/v=3InbMow9IYo - cap_48\n",
      "/Users/timothylee/Desktop/captures/client_pi_200/v=3InbMow9IYo - cap_72\n",
      "/Users/timothylee/Desktop/captures/client_pi_200/v=3InbMow9IYo - cap_3\n",
      "/Users/timothylee/Desktop/captures/client_pi_200/v=3InbMow9IYo - cap_25\n",
      "/Users/timothylee/Desktop/captures/client_pi_200/v=3InbMow9IYo - cap_33\n"
     ]
    }
   ],
   "source": [
    "# dirs = glob(\"/Volumes/tim_details/tim_honours/CAPTURES/*/*\")\n",
    "dirs = glob(\"/Users/timothylee/Desktop/captures/client_pi_200/v=3InbMow9IYo\")\n",
    "\n",
    "# Iterating through label combinations\n",
    "for dir in dirs:\n",
    "    # Setting directory paths\n",
    "    csi_dir = os.path.join(dir, \"csi\")\n",
    "    h5_dir = os.path.join(dir, \"csi_h5\")\n",
    "    # Preparing directories\n",
    "    clean_dir_junk(csi_dir)\n",
    "    make_dir(h5_dir)\n",
    "    # Reading each CSI pcap, processing, and saving results\n",
    "    for fp in os.listdir(csi_dir)[:5]:\n",
    "        name = get_name(fp)\n",
    "        print(f\"{dir} - {name}\")\n",
    "        # Setting filepaths\n",
    "        csi_fp = os.path.join(csi_dir, f\"{name}.pcap\")\n",
    "        h5_fp = os.path.join(h5_dir, f\"{name}.h5\")\n",
    "\n",
    "        # If the h5 output file already exists, then skip\n",
    "        # if os.path.isfile(h5_fp):\n",
    "        #     continue\n",
    "        \n",
    "        # Reading csi info (including metadata)\n",
    "        frames = read_csi(csi_fp)\n",
    "        csi = frames[\"csi\"]\n",
    "        # Checking that the CSI is valid before continuing\n",
    "        if check_csi(csi):\n",
    "            # Processing csi info\n",
    "            csi = process_csi(csi, True, True, 5)\n",
    "        # Making CSI capture DataFrame\n",
    "        df = pd.DataFrame(\n",
    "            {   \n",
    "                \"frame.time_relative\": frames[\"ts_sec_comb_rel\"],\n",
    "                \"fctl\": frames[\"fctl\"],\n",
    "                \"fragn\": frames[\"fragn\"],\n",
    "                \"seqn\": frames[\"seqn\"],\n",
    "            },\n",
    "            index=frames[\"frame_num\"],\n",
    "        )\n",
    "        # Adding CSI subcarrier vals as columns\n",
    "        for i in np.arange(csi.shape[1]):\n",
    "            df[f\"csi_{i}_r\"] = np.float16(np.real(csi[:, i]))\n",
    "            df[f\"csi_{i}_i\"] = np.float16(np.imag(csi[:, i]))\n",
    "        # Saving CSI dataframe as h5\n",
    "        df.to_hdf(h5_fp, key=H5_CSI_KEY, mode=\"w\")\n"
   ]
  },
  {
   "cell_type": "code",
   "execution_count": 29,
   "metadata": {},
   "outputs": [
    {
     "data": {
      "text/plain": [
       "frame.time_relative    float64\n",
       "fctl                     uint8\n",
       "fragn                    uint8\n",
       "seqn                    uint16\n",
       "csi_0_r                float16\n",
       "                        ...   \n",
       "csi_61_i               float16\n",
       "csi_62_r               float16\n",
       "csi_62_i               float16\n",
       "csi_63_r               float16\n",
       "csi_63_i               float16\n",
       "Length: 132, dtype: object"
      ]
     },
     "execution_count": 29,
     "metadata": {},
     "output_type": "execute_result"
    }
   ],
   "source": [
    "df.dtypes"
   ]
  },
  {
   "cell_type": "markdown",
   "metadata": {},
   "source": [
    "## Analysing CSI time-series characteristics (packets per second)"
   ]
  },
  {
   "cell_type": "code",
   "execution_count": null,
   "metadata": {},
   "outputs": [],
   "source": [
    "import CSIFuncs\n",
    "from HelperFuncs import *\n",
    "\n",
    "def csi_timeseries(fps):\n",
    "    fig, axes = plt.subplots(nrows=2)\n",
    "    for fp in fps:\n",
    "        # Reading csi info (including metadata)\n",
    "        frames = CSIFuncs.read_csi(fp)\n",
    "        # Checking that the CSI is valid before continuing\n",
    "        if CSIFuncs.check_csi(frames[\"csi\"]):\n",
    "            # Processing csi info\n",
    "            csi = CSIFuncs.process_csi(frames[\"csi\"], True, True, 5)\n",
    "        else:\n",
    "            continue\n",
    "\n",
    "        # Setting up single capture dataframe\n",
    "        df = pd.DataFrame(\n",
    "            {   \n",
    "                \"ts_sec_comb\": frames[\"ts_sec_comb\"] - frames[\"ts_sec_comb\"][0],\n",
    "            },\n",
    "        )\n",
    "        # Adding CSI subcarrier vals as columns\n",
    "        for i in np.arange(csi.shape[1]):\n",
    "            df[f\"subc_{i+1}\"] = csi[:, i]\n",
    "\n",
    "        # Generating time-bins\n",
    "        interval = 1\n",
    "        series = df[\"ts_sec_comb\"]\n",
    "        start = np.floor(series.min())\n",
    "        end = np.ceil(series.max()) + interval\n",
    "        bins = np.arange(start, end, interval)\n",
    "        df[\"ts_bin\"] = pd.cut(series, bins=bins, include_lowest=True, labels=bins[:-1])\n",
    "\n",
    "        # Grouping and aggregating data on time bins\n",
    "        agg_dict = {\"ts_sec_comb\": \"count\"}\n",
    "        for i in np.arange(csi.shape[1]):\n",
    "            agg_dict[f\"subc_{i+1}\"] = lambda x: np.nanmean(np.abs(x))\n",
    "        df_binned = df.groupby(\"ts_bin\").agg(agg_dict)\n",
    "        # df_binned = df_binned.fillna(0)\n",
    "        df_binned = df_binned.interpolate(method=\"linear\", axis=0)\n",
    "        df_binned = df_binned.sort_index()\n",
    "        df_binned[\"ts_sec_comb_cumsum\"] = df_binned[\"ts_sec_comb\"].cumsum()\n",
    "\n",
    "        # Visualising data:\n",
    "        # Cumulative packets across time bins\n",
    "        axes[0].plot(\n",
    "            df_binned.index,\n",
    "            df_binned[\"ts_sec_comb_cumsum\"],\n",
    "        )\n",
    "        # CSI amplitudes across time (averaged within time bins)\n",
    "        csi_cols = [f\"subc_{i+1}\" for i in np.arange(csi.shape[1])]\n",
    "        axes[1].pcolormesh(\n",
    "            df_binned[csi_cols].T,\n",
    "        )\n",
    "    return fig, axes\n",
    "\n",
    "\n",
    "fps = glob(\"/Volumes/tim_details/tim_honours/CAPTURES/client_pc_200/v=A3gUpodXMv0/csi/cap_*.pcap\")[:3]\n",
    "fig, axes = csi_timeseries(fps)"
   ]
  },
  {
   "cell_type": "code",
   "execution_count": null,
   "metadata": {},
   "outputs": [],
   "source": [
    "dirs = glob(\"/Volumes/tim_details/tim_honours/CAPTURES/client_pc_200/*\")\n",
    "for dir in dirs:\n",
    "    fps = glob(f\"{dir}/csi/cap_*.pcap\")[:10]\n",
    "    fig, axes = csi_timeseries(fps)\n",
    "    print(f\"THIS IS: {dir}\")\n",
    "    fig.show()"
   ]
  },
  {
   "cell_type": "markdown",
   "metadata": {},
   "source": [
    "## Getting summaries of CSI data"
   ]
  },
  {
   "cell_type": "code",
   "execution_count": null,
   "metadata": {},
   "outputs": [],
   "source": [
    "# GETTING SUMMARIES OF A DIRECTORY OF CAPTURES:\n",
    "# nfiles, nframes, statistics\n",
    "import os\n",
    "from glob import glob\n",
    "import numpy as np\n",
    "import matplotlib.pyplot as plt\n",
    "import CSIFuncs\n",
    "\n",
    "dirs = glob(\"/Volumes/tim_details/tim_honours/CAPTURES/*/*\")\n",
    "dirs = [\"/Volumes/tim_details/tim_honours/CAPTURES/client_pi_200/v=mkWKZWMokdI\"]\n",
    "\n",
    "# Getting a summary of each different CSI experiment setup\n",
    "res_arr = {}\n",
    "for dir in dirs:\n",
    "    print(dir)\n",
    "    fps = glob(os.path.join(dir, \"csi/*\"))\n",
    "    res_arr[dir] = CSIFuncs.get_summaries(fps)\n",
    "\n",
    "fig, ax = plt.subplots()\n",
    "for i in res_arr:\n",
    "    res = res_arr[i]\n",
    "    ax.hist(\n",
    "        res[\"nframes\"],\n",
    "        alpha=0.2,\n",
    "        label=f\"{i}\",\n",
    "    )\n",
    "# plt.legend()"
   ]
  },
  {
   "cell_type": "markdown",
   "metadata": {},
   "source": [
    "## Combining CSI from each label combination into an array of 2D arrays\n",
    "- 0 axis: The individual csi capture matrix (i.e. the file)\n",
    "- 1 axis: The frames (note: must be trimmed or padded - same size across all)\n",
    "- 2 axis: The subcarrier\n"
   ]
  },
  {
   "cell_type": "code",
   "execution_count": null,
   "metadata": {},
   "outputs": [],
   "source": [
    "import pandas as pd\n",
    "import os\n",
    "from glob import glob\n",
    "import numpy as np\n",
    "import matplotlib.pyplot as plt\n",
    "import CSIFuncs\n",
    "\n",
    "dirs = glob(\"/Volumes/tim_details/tim_honours/CAPTURES/*/*\")\n",
    "nframes = 10000\n",
    "\n",
    "for dir in dirs:\n",
    "    print(dir)\n",
    "    fps = glob(os.path.join(dir, \"csi/*\"))\n",
    "    comb_csi = CSIFuncs.combine_csis(fps, nframes)\n",
    "    np.save(os.path.join(dir, \"csi_all.npy\"), comb_csi)\n",
    "\n",
    "# fig, ax = plt.subplots()\n",
    "# CSIFuncs.hist2d_subc(np.abs(csi), fig, ax)\n",
    "# fig, ax = plt.subplots()\n",
    "# CSIFuncs.hist2d_complex(csi, fig, ax)\n",
    "# CSIFuncs.plot_all(csi)"
   ]
  },
  {
   "cell_type": "code",
   "execution_count": null,
   "metadata": {},
   "outputs": [],
   "source": [
    "x = np.load(\"/Volumes/tim_details/tim_honours/CAPTURES/client_pi_200_wall/v=t6jlhqNxRYk/csi_all.npy\")\n",
    "x.shape"
   ]
  },
  {
   "cell_type": "code",
   "execution_count": null,
   "metadata": {},
   "outputs": [],
   "source": []
  }
 ],
 "metadata": {
  "kernelspec": {
   "display_name": "Python 3",
   "language": "python",
   "name": "python3"
  },
  "language_info": {
   "codemirror_mode": {
    "name": "ipython",
    "version": 3
   },
   "file_extension": ".py",
   "mimetype": "text/x-python",
   "name": "python",
   "nbconvert_exporter": "python",
   "pygments_lexer": "ipython3",
   "version": "3.11.5"
  },
  "orig_nbformat": 4
 },
 "nbformat": 4,
 "nbformat_minor": 2
}
