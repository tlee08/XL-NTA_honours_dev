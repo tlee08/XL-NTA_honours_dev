{
 "cells": [
  {
   "cell_type": "code",
   "execution_count": 1,
   "metadata": {},
   "outputs": [],
   "source": [
    "from funcs.WLANFuncs import *\n",
    "from funcs.HelperFuncs import *\n",
    "\n",
    "import os\n",
    "from glob import glob\n",
    "\n",
    "import warnings\n",
    "warnings.filterwarnings(\"ignore\")\n"
   ]
  },
  {
   "cell_type": "code",
   "execution_count": null,
   "metadata": {},
   "outputs": [],
   "source": [
    "import pandas as pd\n",
    "# df = pd.read_hdf(\"/Volumes/tim_details/tim_honours/CAPTURES/client_pc_200/v=3InbMow9IYo/wlan_h5/cap_0.h5\", key=WLANFuncs.H5_WLAN_KEY, mode=\"r\")\n",
    "df[[\n",
    "    'frame.number', 'frame.time_relative', 'frame.len',\n",
    "    # 'wlan_radio.signal_dbm',\n",
    "    'wlan.seq', 'wlan.frag', 'wlan.fc',\n",
    "    'wlan.ta', 'wlan.ra',\n",
    "]]"
   ]
  },
  {
   "cell_type": "markdown",
   "metadata": {},
   "source": [
    "# Convert JSON to H5 (good for ML and similar to csv)\n",
    "## Also adding derivate features\n",
    "* Is upstream/downstream"
   ]
  },
  {
   "cell_type": "code",
   "execution_count": 2,
   "metadata": {},
   "outputs": [
    {
     "name": "stdout",
     "output_type": "stream",
     "text": [
      "/Users/timothylee/Desktop/captures/client_pi_200/v=3InbMow9IYo - cap_48\n"
     ]
    }
   ],
   "source": [
    "ssid = \"67Marlie\"\n",
    "pwd = \"sayplease\"\n",
    "\n",
    "# dirs = glob(\"/Volumes/tim_details/tim_honours/CAPTURES/*/*\")\n",
    "dirs = glob(\"/Users/timothylee/Desktop/captures/client_pi_200/v=3InbMow9IYo\")\n",
    "\n",
    "# Iterating through each capture directory\n",
    "for dir in dirs:\n",
    "    # Getting directory paths\n",
    "    wlan_dir = os.path.join(dir, \"wlan\")\n",
    "    metadata_dir = os.path.join(dir, \"metadata\")\n",
    "    json_dir = os.path.join(dir, \"wlan_json\")\n",
    "    h5_dir = os.path.join(dir, \"wlan_h5\")\n",
    "    # Preparing directories\n",
    "    clean_dir_junk(wlan_dir)\n",
    "    make_dir(json_dir)\n",
    "    make_dir(h5_dir)\n",
    "    # Reading each WLAN pcap, processing, and saving results\n",
    "    for fp in os.listdir(wlan_dir)[:1]:\n",
    "        name = get_name(fp)\n",
    "        print(f\"{dir} - {name}\")\n",
    "        # Getting file paths\n",
    "        wlan_fp = os.path.join(wlan_dir, f\"{name}.pcap\")\n",
    "        metadata_fp = os.path.join(metadata_dir, f\"{name}.json\")\n",
    "        json_fp = os.path.join(json_dir, f\"{name}.json\")\n",
    "        h5_fp = os.path.join(h5_dir, f\"{name}.h5\")\n",
    "\n",
    "        # If the json_fp or h5_fp already exists, then skip\n",
    "        # if os.path.isfile(h5_fp):\n",
    "        #     continue\n",
    "        \n",
    "        # Getting metadata\n",
    "        metadata = parse_json(metadata_fp)\n",
    "        # Converting pcap to decrypted json\n",
    "        pcap_to_json(wlan_fp, json_fp, ssid, pwd, TSHARK_FIELDS)\n",
    "        # Converting json to h5, processing (adding attributes), and saving\n",
    "        df = json_to_df(json_fp)\n",
    "        df = df_wlan_clean(df, FIELDS)\n",
    "        df = df_wlan_derive_attrs(df, metadata[\"mac\"])\n",
    "        df.to_hdf(h5_fp, key=H5_WLAN_KEY, mode=\"w\")\n",
    "    # Making space on the filesystem by removing the wlan_json dir (always large)\n",
    "    remove_dir(json_dir)\n"
   ]
  },
  {
   "cell_type": "code",
   "execution_count": 1,
   "metadata": {},
   "outputs": [],
   "source": [
    "from funcs.WLANFuncs import *\n",
    "from funcs.HelperFuncs import *\n",
    "\n",
    "wlan_fp = \"/Users/timothylee/Desktop/captures/client_pi_200/v=3InbMow9IYo/wlan/cap_48.pcap\"\n",
    "json_fp = \"/Users/timothylee/Desktop/captures/client_pi_200/v=3InbMow9IYo/wlan_json/cap_48.json\"\n",
    "\n",
    "ssid = \"67Marlie\"\n",
    "pwd = \"sayplease\"\n",
    "\n",
    "# make_dir(json_dir)\n",
    "pcap_to_json(wlan_fp, json_fp, ssid, pwd, TSHARK_FIELDS)"
   ]
  },
  {
   "cell_type": "code",
   "execution_count": 3,
   "metadata": {},
   "outputs": [
    {
     "data": {
      "text/plain": [
       "frame.time_relative      float64\n",
       "frame.number               int64\n",
       "frame.len                  int32\n",
       "wlan_radio.signal_dbm       int8\n",
       "wlan.fc.version             int8\n",
       "wlan.fc.type                int8\n",
       "wlan.fc.subtype             int8\n",
       "wlan.frag                   int8\n",
       "wlan.seq                   int16\n",
       "wlan.da                   object\n",
       "wlan.sa                   object\n",
       "ip.src                    object\n",
       "ip.dst                    object\n",
       "ip.len                     int16\n",
       "udp.srcport                int16\n",
       "udp.dstport                int16\n",
       "tcp.srcport                int16\n",
       "tcp.dstport                int16\n",
       "is_upstream                 bool\n",
       "dtype: object"
      ]
     },
     "execution_count": 3,
     "metadata": {},
     "output_type": "execute_result"
    }
   ],
   "source": [
    "df = pd.read_hdf(\"/Users/timothylee/Desktop/captures/client_pi_200/v=3InbMow9IYo/wlan_h5/cap_48.h5\", key=H5_WLAN_KEY, mode=\"r\")\n",
    "\n",
    "# df = df.fillna(0)\n",
    "\n",
    "df.dtypes"
   ]
  },
  {
   "cell_type": "code",
   "execution_count": null,
   "metadata": {},
   "outputs": [],
   "source": [
    "frame.time_relative      float64\n",
    "frame.number               int64\n",
    "frame.len                  int32\n",
    "wlan_radio.signal_dbm       int8\n",
    "wlan.frag                   int8\n",
    "wlan.seq                   int16\n",
    "wlan.fc                   object\n",
    "wlan.da                   object\n",
    "wlan.sa                   object\n",
    "wlan.bssid                object\n",
    "ip.src                    object\n",
    "ip.dst                    object\n",
    "ip.len                     int16\n",
    "udp.srcport                int16\n",
    "udp.dstport                int16\n",
    "udp.stream                 int32\n",
    "udp.length                 int16\n",
    "tcp.srcport                int16\n",
    "tcp.dstport                int16\n",
    "tcp.stream                 int32\n",
    "tcp.len                    int16\n",
    "is_upstream                 bool\n",
    "stream                    object\n",
    "dtype: object"
   ]
  },
  {
   "cell_type": "markdown",
   "metadata": {},
   "source": [
    "## Investigating streams"
   ]
  },
  {
   "cell_type": "markdown",
   "metadata": {},
   "source": [
    "## Visualising cumulative bytes by time (binned in time intervals)"
   ]
  },
  {
   "cell_type": "code",
   "execution_count": null,
   "metadata": {},
   "outputs": [],
   "source": [
    "# dirs = glob(\"/Users/timothylee/Desktop/Uni/Yr5/Honours/honours_dev/2_analyse/wlan_captures\")\n",
    "dirs = glob(\"/Volumes/tim_details/tim_honours/CAPTURES/*/*\")\n",
    "\n",
    "for dir in dirs:\n",
    "    # Getting directory and file paths\n",
    "    h5_dir = os.path.join(dir, \"wlan_h5\")\n",
    "    plot_dir = os.path.join(dir, \"wlan_plots\")\n",
    "    plot_fp = os.path.join(plot_dir, \"all_cumsum.png\")\n",
    "    # Preparing directories\n",
    "    make_dir(plot_dir)\n",
    "\n",
    "    # If the plot already exists, then skip\n",
    "    if os.path.isfile(plot_fp):\n",
    "        continue\n",
    "\n",
    "    # Making plots\n",
    "    fig, ax = WLANFuncs.wlan_cumsum_plot(h5_dir)\n",
    "    fig.savefig(plot_fp)\n",
    "    fig.clf();\n",
    "plt.close();"
   ]
  }
 ],
 "metadata": {
  "kernelspec": {
   "display_name": "Python 3",
   "language": "python",
   "name": "python3"
  },
  "language_info": {
   "codemirror_mode": {
    "name": "ipython",
    "version": 3
   },
   "file_extension": ".py",
   "mimetype": "text/x-python",
   "name": "python",
   "nbconvert_exporter": "python",
   "pygments_lexer": "ipython3",
   "version": "3.11.5"
  },
  "orig_nbformat": 4
 },
 "nbformat": 4,
 "nbformat_minor": 2
}
