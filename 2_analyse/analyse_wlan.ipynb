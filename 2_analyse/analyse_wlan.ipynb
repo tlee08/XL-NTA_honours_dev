{
 "cells": [
  {
   "cell_type": "code",
   "execution_count": null,
   "metadata": {},
   "outputs": [],
   "source": [
    "from funcs.WLANFuncs import *\n",
    "from funcs.HelperFuncs import *\n",
    "\n",
    "from multiprocessing import Pool\n",
    "import os\n",
    "import pandas as pd\n",
    "from glob import glob\n",
    "\n",
    "%matplotlib inline\n",
    "\n",
    "pd.options.display.float_format = '{:6f}'.format\n",
    "\n",
    "import warnings\n",
    "warnings.filterwarnings(\"ignore\")\n"
   ]
  },
  {
   "cell_type": "markdown",
   "metadata": {},
   "source": [
    "## Setting configs\n"
   ]
  },
  {
   "cell_type": "code",
   "execution_count": null,
   "metadata": {},
   "outputs": [],
   "source": [
    "# Directory storing the CSI and WLAN captures\n",
    "resources_dir = \"/Volumes/tim_details/tim_honours/CAPTURES\"\n",
    "\n",
    "# Directory to save plots to\n",
    "plt_dir = \"/Users/timothylee/Desktop/Uni/Yr5/Honours/honours_thesis/figures/plt_figs/\"\n",
    "\n",
    "# Supress pd scientific notation\n",
    "pd.set_option('display.float_format', '{:.6f}'.format)\n",
    "\n",
    "# Resolution of plots\n",
    "plt.rcParams[\"figure.dpi\"] = 100 # 300\n",
    "\n",
    "# Backend to generate plots\n",
    "# mpl.use(\"agg\")\n",
    "# %matplotlib ipympl\n",
    "%matplotlib inline\n",
    "\n",
    "# plt figure style\n",
    "fig_style = \"seaborn-v0_8-whitegrid\"\n",
    "\n",
    "# colormaps\n",
    "cmap_qual = plt.get_cmap(\"Pastel1\")\n",
    "cmap_seq = plt.get_cmap(\"viridis\")\n",
    "cmap_cycl = plt.get_cmap(\"twilight\")\n"
   ]
  },
  {
   "cell_type": "markdown",
   "metadata": {},
   "source": [
    "## Convert JSON to H5\n",
    "good for ML, similar to csv, and efficiently stored with correct dtypes\n",
    "\n",
    "### Also adding derivate features\n",
    "* Is upstream/downstream"
   ]
  },
  {
   "cell_type": "code",
   "execution_count": null,
   "metadata": {},
   "outputs": [],
   "source": [
    "procs = 4\n",
    "\n",
    "ssid = \"67Marlie\"\n",
    "pwd = \"sayplease\"\n",
    "\n",
    "dirs = glob(\"/Volumes/tim_details/tim_honours/CAPTURES/*/*\")\n",
    "\n",
    "for dir in dirs:\n",
    "    # Setting up dirs\n",
    "    clean_dir_junk(os.path.join(dir, \"wlan\"))\n",
    "    make_dir(os.path.join(dir, \"wlan_json\"))\n",
    "    make_dir(os.path.join(dir, \"wlan_h5\"))\n",
    "    # Running multiprocessing: wlan pcap to h5\n",
    "    starargs = [(dir, get_name(i)) for i in os.listdir(os.path.join(dir, \"wlan\"))]\n",
    "    with Pool(procs, initializer=wlan_to_df_init_mp, initargs=(ssid, pwd)) as pool:\n",
    "        pool.starmap(wlan_to_df_mp, starargs)\n",
    "    # Cleaning dirs (removing json dir)\n",
    "    remove_dir(os.path.join(dir, \"wlan_json\"))"
   ]
  },
  {
   "cell_type": "code",
   "execution_count": null,
   "metadata": {},
   "outputs": [],
   "source": [
    "fp = \"/Volumes/tim_details/tim_honours/CAPTURES/client_pc_50/v=A3gUpodXMv0/wlan_h5/cap_15.h5\"\n",
    "display(pd.read_hdf(fp, key=H5_WLAN_KEY, mode=\"r\"))"
   ]
  },
  {
   "cell_type": "markdown",
   "metadata": {},
   "source": [
    "## Investigating streams"
   ]
  },
  {
   "cell_type": "markdown",
   "metadata": {},
   "source": [
    "## Visualising cumulative bytes by time (binned in time intervals)"
   ]
  },
  {
   "cell_type": "code",
   "execution_count": null,
   "metadata": {},
   "outputs": [],
   "source": [
    "# dirs = glob(\"/Users/timothylee/Desktop/Uni/Yr5/Honours/honours_dev/2_analyse/wlan_captures\")\n",
    "dirs = glob(\"/Volumes/tim_details/tim_honours/CAPTURES/*/*\")\n",
    "\n",
    "for dir in dirs:\n",
    "    # Getting directory and file paths\n",
    "    h5_dir = os.path.join(dir, \"wlan_h5\")\n",
    "    plot_dir = os.path.join(dir, \"wlan_plots\")\n",
    "    plot_fp = os.path.join(plot_dir, \"all_cumsum.png\")\n",
    "    # Preparing directories\n",
    "    make_dir(plot_dir)\n",
    "\n",
    "    # If the plot already exists, then skip\n",
    "    if os.path.isfile(plot_fp):\n",
    "        continue\n",
    "\n",
    "    # Making plots\n",
    "    fig, ax = WLANFuncs.wlan_cumsum_plot(h5_dir)\n",
    "    fig.savefig(plot_fp)\n",
    "    fig.clf();\n",
    "plt.close();"
   ]
  }
 ],
 "metadata": {
  "kernelspec": {
   "display_name": "Python 3",
   "language": "python",
   "name": "python3"
  },
  "language_info": {
   "codemirror_mode": {
    "name": "ipython",
    "version": 3
   },
   "file_extension": ".py",
   "mimetype": "text/x-python",
   "name": "python",
   "nbconvert_exporter": "python",
   "pygments_lexer": "ipython3",
   "version": "3.11.5"
  },
  "orig_nbformat": 4
 },
 "nbformat": 4,
 "nbformat_minor": 2
}
