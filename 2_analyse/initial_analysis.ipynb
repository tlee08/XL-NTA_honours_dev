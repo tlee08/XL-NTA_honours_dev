{
 "cells": [
  {
   "cell_type": "code",
   "execution_count": null,
   "metadata": {},
   "outputs": [],
   "source": [
    "from funcs.HelperFuncs import *\n",
    "from funcs.CSIFuncs import *\n",
    "from funcs.WLANFuncs import *\n",
    "\n",
    "import os\n",
    "import numpy as np\n",
    "import pandas as pd\n",
    "import matplotlib.pyplot as plt"
   ]
  },
  {
   "cell_type": "markdown",
   "metadata": {},
   "source": [
    "## Setting configs\n"
   ]
  },
  {
   "cell_type": "code",
   "execution_count": null,
   "metadata": {},
   "outputs": [],
   "source": [
    "# Directory storing the CSI and WLAN captures\n",
    "resources_dir = \"/Volumes/tim_details/tim_honours/CAPTURES\"\n",
    "\n",
    "# Directory to save plots to\n",
    "plt_dir = \"/Users/timothylee/Desktop/Uni/Yr5/Honours/honours_thesis/figures/plt_figs/\"\n",
    "\n",
    "# Supress warnings\n",
    "import warnings\n",
    "warnings.filterwarnings(\"ignore\")\n",
    "\n",
    "# Supress pd scientific notation\n",
    "pd.set_option('display.float_format', '{:.6f}'.format)\n",
    "\n",
    "# Resolution of plots\n",
    "plt.rcParams[\"figure.dpi\"] = 100 # 300\n",
    "\n",
    "# Backend to generate plots\n",
    "# mpl.use(\"agg\")\n",
    "# %matplotlib ipympl\n",
    "%matplotlib inline\n",
    "\n",
    "# plt figure style\n",
    "fig_style = \"seaborn-v0_8-whitegrid\"\n",
    "\n",
    "# colormaps\n",
    "cmap_seq = \"viridis\"\n",
    "cmap_cycl = \"twilight\"\n",
    "cmap_qual = \"Pastel1\"\n"
   ]
  },
  {
   "cell_type": "markdown",
   "metadata": {},
   "source": [
    "## Using example captures for initial analysis\n"
   ]
  },
  {
   "cell_type": "code",
   "execution_count": null,
   "metadata": {},
   "outputs": [],
   "source": [
    "devices = [\n",
    "    \"client_pc_200\",\n",
    "    \"client_pi_200\",\n",
    "]\n",
    "\n",
    "videos = [\n",
    "    \"v=A3gUpodXMv0\",\n",
    "    \"v=gxxqdrrpgZc\",\n",
    "    \"v=mkWKZWMokdI\",\n",
    "    \"v=NSW5u1RTxEA\",\n",
    "]\n",
    "\n",
    "instances = [\n",
    "    \"cap_1\",\n",
    "    \"cap_10\",\n",
    "    \"cap_50\",\n",
    "    \"cap_70\",\n",
    "    \"cap_80\",\n",
    "]\n",
    "\n",
    "i = 1\n",
    "j = 2\n",
    "k = 2"
   ]
  },
  {
   "cell_type": "markdown",
   "metadata": {},
   "source": [
    "## Comparing WLAN data across captures\n",
    "\n",
    "We want low intra-class distance and high inter-class distance.\n"
   ]
  },
  {
   "cell_type": "markdown",
   "metadata": {},
   "source": [
    "## Combining and Comparing WLAN and CSI data for each capture\n",
    "\n",
    "Observations are:\n",
    "\n",
    "- There are MANY more WLAN packets than CSI packets for each capture\n",
    "- The relative bursts are the same for the WLAN and CSI captures. This is easiest visualised, where \"horizontally stretching\" the CSI plot of cumulative number of frames through time would fit the corresponding WLAN plot for the cumulative number of frames through time.\n"
   ]
  },
  {
   "cell_type": "code",
   "execution_count": null,
   "metadata": {},
   "outputs": [],
   "source": [
    "# READING DATAFRAMES\n",
    "\n",
    "# Getting filepaths\n",
    "wlan_fp = os.path.join(\n",
    "    resources_dir, devices[i], videos[j], \"wlan_h5\", f\"{instances[k]}.h5\"\n",
    ")\n",
    "csi_fp = os.path.join(\n",
    "    resources_dir, devices[i], videos[j], \"csi_h5\", f\"{instances[k]}.h5\"\n",
    ")\n",
    "# Reading dataframes\n",
    "wlan_df = pd.read_hdf(wlan_fp, key=H5_WLAN_KEY, mode=\"r\")\n",
    "csi_df = pd.read_hdf(csi_fp, key=H5_CSI_KEY, mode=\"r\")\n",
    "\n",
    "# Displaying dataframes\n",
    "display(wlan_df)\n",
    "display(csi_df)"
   ]
  },
  {
   "cell_type": "code",
   "execution_count": null,
   "metadata": {},
   "outputs": [],
   "source": [
    "# COMPARING THE CUMULATIVE NUMBER OF FRAMES THROUGH TIME OF A CAPTURE'S CSI AND WLAN\n",
    "\n",
    "# TODO: NEED TO TRY WITH frame.time_epoch - THIS WILL BE ALIGNED\n",
    "\n",
    "# PLOTTING WLAN AND CSI ON SAME AXES WITH DIFFERENT SCALES\n",
    "# with plt.style.context(fig_style):\n",
    "with plt.style.context(\"seaborn-v0_8-white\"):\n",
    "    # Making figure\n",
    "    fig, ax1 = plt.subplots(figsize=(10, 4))\n",
    "    fig.tight_layout()\n",
    "\n",
    "    # PLOTTING WLAN\n",
    "    ax1.plot(\n",
    "        wlan_df[\"frame.time_epoch\"],\n",
    "        wlan_df.index,\n",
    "        label=\"WLAN\",\n",
    "        color=cmap_qual(0),\n",
    "    )\n",
    "    ax1.set_ylabel(\"Cumulative Frames (WLAN)\")\n",
    "\n",
    "    # PLOTTING WLAN\n",
    "    # Create a second set of y-axes for the same x-axis\n",
    "    ax2 = ax1.twinx()\n",
    "    ax2.plot(\n",
    "        csi_df[\"frame.time_epoch\"],\n",
    "        csi_df.index,\n",
    "        label=\"CSI\",\n",
    "        color=cmap_qual(1),\n",
    "    )\n",
    "    ax2.set_ylabel(\"Cumulative Frames (CSI)\")\n",
    "    # Set legend position (or remove)\n",
    "\n",
    "    # CUSTOMISING APPEARANCE\n",
    "    # Set axis titles\n",
    "    ax1.set_title(\"a)\", loc=\"left\", fontsize=\"medium\")\n",
    "    ax1.set_title(\"Cumulative Number of Frames through Time\")\n",
    "    ax1.set_xlabel(\"Time (seconds)\")\n",
    "    # Set legend position (or remove)\n",
    "    fig.legend(loc=\"upper left\", bbox_to_anchor=(1, 1))\n",
    "    # ax1.legend(loc=\"upper left\")"
   ]
  },
  {
   "cell_type": "code",
   "execution_count": null,
   "metadata": {},
   "outputs": [],
   "source": [
    "# COMPARING THE CUMULATIVE NUMBER OF FRAMES THROUGH TIME OF A CAPTURE'S CSI AND WLAN\n",
    "\n",
    "# TODO: NEED TO TRY WITH frame.time_epoch - THIS WILL BE ALIGNED\n",
    "\n",
    "# PLOTTING WLAN AND CSI ON SAME AXES WITH DIFFERENT SCALES\n",
    "# with plt.style.context(fig_style):\n",
    "with plt.style.context(\"seaborn-v0_8-white\"):\n",
    "    # Making figure\n",
    "    fig, ax1 = plt.subplots(figsize=(10, 4))\n",
    "    fig.tight_layout()\n",
    "\n",
    "    # PLOTTING WLAN\n",
    "    ax1.plot(\n",
    "        wlan_df[\"frame.time_relative\"],\n",
    "        wlan_df.index,\n",
    "        label=\"WLAN\",\n",
    "        color=cmap_qual(0),\n",
    "    )\n",
    "    ax1.set_ylabel(\"Cumulative Frames (WLAN)\")\n",
    "\n",
    "    # PLOTTING WLAN\n",
    "    # Create a second set of y-axes for the same x-axis\n",
    "    ax2 = ax1.twinx()\n",
    "    ax2.plot(\n",
    "        csi_df[\"frame.time_relative\"],\n",
    "        csi_df.index,\n",
    "        label=\"CSI\",\n",
    "        color=cmap_qual(1),\n",
    "    )\n",
    "    ax2.set_ylabel(\"Cumulative Frames (CSI)\")\n",
    "    # Set legend position (or remove)\n",
    "\n",
    "    # CUSTOMISING APPEARANCE\n",
    "    # Set axis titles\n",
    "    ax1.set_title(\"a)\", loc=\"left\", fontsize=\"medium\")\n",
    "    ax1.set_title(\"Cumulative Number of Frames through Time\")\n",
    "    ax1.set_xlabel(\"Time (seconds)\")\n",
    "    # Set legend position (or remove)\n",
    "    fig.legend(loc=\"upper left\", bbox_to_anchor=(1, 1))\n",
    "    # ax1.legend(loc=\"upper left\")"
   ]
  }
 ],
 "metadata": {
  "kernelspec": {
   "display_name": "honours_env",
   "language": "python",
   "name": "python3"
  },
  "language_info": {
   "codemirror_mode": {
    "name": "ipython",
    "version": 3
   },
   "file_extension": ".py",
   "mimetype": "text/x-python",
   "name": "python",
   "nbconvert_exporter": "python",
   "pygments_lexer": "ipython3",
   "version": "3.11.6"
  },
  "orig_nbformat": 4
 },
 "nbformat": 4,
 "nbformat_minor": 2
}
