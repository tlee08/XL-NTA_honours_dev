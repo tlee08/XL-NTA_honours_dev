{
 "cells": [
  {
   "cell_type": "code",
   "execution_count": 1,
   "metadata": {},
   "outputs": [],
   "source": [
    "import pandas as pd\n",
    "import numpy as np\n",
    "import os\n",
    "\n",
    "# import tensorflow"
   ]
  },
  {
   "cell_type": "code",
   "execution_count": 2,
   "metadata": {},
   "outputs": [
    {
     "data": {
      "text/plain": [
       "['v=3InbMow9IYo',\n",
       " 'v=A3gUpodXMv0',\n",
       " 'v=NSW5u1RTxEA',\n",
       " 'v=gxxqdrrpgZc',\n",
       " 'v=mkWKZWMokdI',\n",
       " 'v=t634q_Voeto',\n",
       " 'v=t6jlhqNxRYk',\n",
       " 'v=w_oGIbFjiCo',\n",
       " 'v=yve6qo6eowU']"
      ]
     },
     "execution_count": 2,
     "metadata": {},
     "output_type": "execute_result"
    }
   ],
   "source": [
    "ls = os.listdir(\"/Volumes/tim_details/tim_honours/CAPTURES/client_pi_50\")\n",
    "ls.sort()\n",
    "ls"
   ]
  },
  {
   "cell_type": "code",
   "execution_count": 19,
   "metadata": {},
   "outputs": [
    {
     "name": "stdout",
     "output_type": "stream",
     "text": [
      "client_pc_50 v=3InbMow9IYo\n",
      "\n",
      "client_pc_200 v=3InbMow9IYo\n",
      "\n",
      "client_pc_200_wall v=3InbMow9IYo\n",
      "\n",
      "client_pi_50 v=3InbMow9IYo\n",
      "\n",
      "client_pi_200 v=3InbMow9IYo\n",
      "\n",
      "client_pi_200_wall v=3InbMow9IYo\n",
      "\n"
     ]
    }
   ],
   "source": [
    "# LOADING IN DATA\n",
    "# NOTE: combining data in different steps to reduce the load of np.concatenate\n",
    "\n",
    "classes = [\n",
    "    \"client_pc_50\",\n",
    "    \"client_pc_200\",\n",
    "    \"client_pc_200_wall\",\n",
    "    \"client_pi_50\",\n",
    "    \"client_pi_200\",\n",
    "    \"client_pi_200_wall\"\n",
    "]\n",
    "inner_dirs = [\n",
    "    'v=3InbMow9IYo',\n",
    "    # \"v=A3gUpodXMv0\",\n",
    "    # \"v=NSW5u1RTxEA\",\n",
    "    # \"v=gxxqdrrpgZc\",\n",
    "    # \"v=mkWKZWMokdI\",\n",
    "    # \"v=t634q_Voeto\",\n",
    "    # \"v=t6jlhqNxRYk\",\n",
    "    # \"v=w_oGIbFjiCo\",\n",
    "    # \"v=yve6qo6eowU\"\n",
    "]\n",
    "dir = \"/Volumes/tim_details/tim_honours/CAPTURES/\"\n",
    "\n",
    "# Init total X and y arrays\n",
    "X = np.zeros((0,500,64))\n",
    "y = np.zeros((0))\n",
    "# Iterating through all the dev, loc classes\n",
    "for c in classes:\n",
    "    # Getting dev, loc dir\n",
    "    dir_c = os.path.join(dir, c)\n",
    "    # Init dev, loc X and y arrays\n",
    "    X_c = np.zeros((0,500,64))\n",
    "    y_c = np.zeros((0))\n",
    "    # Iterating through all the vid classes\n",
    "    for i in inner_dirs:\n",
    "        print(c, i)\n",
    "        # Getting dev, loc, vid dir and csi fp\n",
    "        dir_c_i = os.path.join(dir_c, i)\n",
    "        csi_fp = os.path.join(dir_c_i, \"csi_all.npy\")\n",
    "        # Loading in csi npy file\n",
    "        X_c_i = np.load(csi_fp)\n",
    "        y_c_i = np.repeat(c, X_c_i.shape[0])\n",
    "        # Trimming data (reduced computation)\n",
    "        X_c_i = X_c_i[:, 2000:2500, :]\n",
    "        # Combining vid data into dev, loc X and y arrays\n",
    "        X_c = np.concatenate([X_c, X_c_i], axis=0)\n",
    "        y_c = np.concatenate([y_c, y_c_i], axis=0)\n",
    "    # Combining dev, loc data into total X and y arrays\n",
    "    X = np.concatenate([X, X_c], axis=0)\n",
    "    y = np.concatenate([y, y_c], axis=0)\n",
    "    print()\n"
   ]
  },
  {
   "cell_type": "code",
   "execution_count": 22,
   "metadata": {},
   "outputs": [
    {
     "name": "stdout",
     "output_type": "stream",
     "text": [
      "(581, 500, 48)\n"
     ]
    }
   ],
   "source": [
    "# CLEANING DATA\n",
    "\n",
    "# REMOVING CAPTURES WITH LESS THAN X FRAMES\n",
    "# Getting whether any frame (all subc in the frame) are non-zero (thus valid frame)\n",
    "# then finding the number of valid frames for each capture.\n",
    "# If the number of valid frames is below thresh, then it is an invalid capture (deleted)\n",
    "thresh = 400\n",
    "samples_to_remove = np.any(X != 0, axis=2).sum(axis=1) < thresh\n",
    "# Filtering out invalid frames\n",
    "X_cleaned = np.delete(X, samples_to_remove, axis=0)\n",
    "y_cleaned = np.delete(y, samples_to_remove, axis=0)\n",
    "\n",
    "# Filtering out null and pilot frames\n",
    "nulls = [0, 1, 2, 3, 4, 5, 63, 62, 61, 60, 59, 32]\n",
    "pilots = [11, 25, 53, 39]\n",
    "null_pilots = np.concatenate([nulls, pilots])\n",
    "X_cleaned = np.delete(X_cleaned, null_pilots, axis=2)\n",
    "\n",
    "print(X_cleaned.shape)"
   ]
  },
  {
   "cell_type": "code",
   "execution_count": 23,
   "metadata": {},
   "outputs": [],
   "source": [
    "from sklearn.preprocessing import LabelEncoder, LabelBinarizer\n",
    "\n",
    "# Encode the labels\n",
    "# le = LabelEncoder()\n",
    "lb = LabelBinarizer()\n",
    "lb.fit(y_cleaned)\n",
    "y_lb = lb.transform(y_cleaned)"
   ]
  },
  {
   "cell_type": "code",
   "execution_count": 37,
   "metadata": {},
   "outputs": [
    {
     "data": {
      "text/plain": [
       "(581, 500, 48, 1)"
      ]
     },
     "execution_count": 37,
     "metadata": {},
     "output_type": "execute_result"
    }
   ],
   "source": [
    "from sklearn.preprocessing import MinMaxScaler, StandardScaler, FunctionTransformer\n",
    "\n",
    "# Converting the complex numbers to an array of 2D arrays with specified channels\n",
    "X_procd = np.zeros((*X_cleaned.shape, 0))\n",
    "\n",
    "# Amplitude channel\n",
    "X_amp = X_cleaned\n",
    "X_amp = np.abs(X_amp) / np.abs(X_amp).max()\n",
    "X_amp = np.log1p(X_amp)\n",
    "X_amp = X_amp.reshape(*X_amp.shape, 1)\n",
    "X_procd = np.concatenate([X_procd, X_amp], axis=3)\n",
    "\n",
    "# Phase channel\n",
    "# X_phase = X_cleaned\n",
    "# X_phase = np.angle(X_phase) / (2*np.pi) + 0.5\n",
    "# X_phase = X_procd.reshape(*X_phase.shape, 1)\n",
    "# X_procd = np.concatenate([X_procd, X_phase], axis=3)\n",
    "\n",
    "X_procd.shape"
   ]
  },
  {
   "cell_type": "code",
   "execution_count": 38,
   "metadata": {},
   "outputs": [
    {
     "data": {
      "image/png": "[encoded data removed]",
      "text/plain": [
       "<Figure size 640x480 with 1 Axes>"
      ]
     },
     "metadata": {},
     "output_type": "display_data"
    },
    {
     "data": {
      "image/png": "[encoded data removed]",
      "text/plain": [
       "<Figure size 640x480 with 2 Axes>"
      ]
     },
     "metadata": {},
     "output_type": "display_data"
    },
    {
     "data": {
      "image/png": "[encoded data removed]",
      "text/plain": [
       "<Figure size 640x480 with 1 Axes>"
      ]
     },
     "metadata": {},
     "output_type": "display_data"
    }
   ],
   "source": [
    "import matplotlib.pyplot as plt\n",
    "from matplotlib import colormaps\n",
    "\n",
    "# Showing distribution of all csi amplitude values\n",
    "plt.hist(\n",
    "    # x_procd[y_cleaned==\"client_pc_200\"].flatten(),\n",
    "    X_procd.flatten(),\n",
    "    bins=40,\n",
    "    )\n",
    "plt.show()\n",
    "\n",
    "# SENSE CHECKING EXAMPLE CSI HEATMAP IMAGE\n",
    "im = plt.pcolormesh(\n",
    "    np.abs(X_procd[198, :, :, 0]),\n",
    ")\n",
    "plt.colorbar(im)\n",
    "plt.show()\n",
    "\n",
    "my_col = colormaps['Spectral']\n",
    "for i in np.arange(180, 190):\n",
    "    plt.plot(\n",
    "        np.abs(X_procd[i, :, :, 0]).T,\n",
    "        color=my_col((i-180)/10),\n",
    "        alpha=1\n",
    "    )\n",
    "plt.show()"
   ]
  },
  {
   "cell_type": "code",
   "execution_count": 39,
   "metadata": {},
   "outputs": [],
   "source": [
    "from sklearn.model_selection import train_test_split\n",
    "\n",
    "# Splitting the data into train and test sets\n",
    "X_train, X_test, y_train, y_test = train_test_split(\n",
    "    X_procd,\n",
    "    y_lb,\n",
    "    test_size=0.2,\n",
    "    random_state=42,\n",
    "    stratify=y_lb,\n",
    ")\n",
    "\n",
    "# Flattening this data (reshaping) to feed into different ML algos\n",
    "X_train_flat = X_train.reshape(X_train.shape[0], -1)\n",
    "X_test_flat = X_test.reshape(X_test.shape[0], -1)"
   ]
  },
  {
   "cell_type": "code",
   "execution_count": 40,
   "metadata": {},
   "outputs": [
    {
     "name": "stdout",
     "output_type": "stream",
     "text": [
      "(464, 500, 48, 1)\n",
      "(464, 24000)\n"
     ]
    }
   ],
   "source": [
    "print(X_train.shape)\n",
    "print(X_train_flat.shape)"
   ]
  },
  {
   "cell_type": "code",
   "execution_count": 41,
   "metadata": {},
   "outputs": [
    {
     "data": {
      "image/png": "[encoded data removed]",
      "text/plain": [
       "<Figure size 640x480 with 1 Axes>"
      ]
     },
     "metadata": {},
     "output_type": "display_data"
    }
   ],
   "source": [
    "import matplotlib.pyplot as plt\n",
    "from sklearn.decomposition import PCA\n",
    "\n",
    "# PERFORMING PCA ANALYSIS (IN-CASE)\n",
    "# Initialize and fit the PCA model\n",
    "pca = PCA(n_components=10)\n",
    "pca.fit(np.abs(X_train_flat))\n",
    "\n",
    "# Transform the data to the lower-dimensional space (and selecting only the top 3 components)\n",
    "n_components = 5\n",
    "X_train_pca = pca.transform(np.abs(X_train_flat))[:, :n_components]\n",
    "X_test_pca = pca.transform(np.abs(X_test_flat))[:, :n_components]\n",
    "\n",
    "plt.plot(pca.explained_variance_ratio_)\n",
    "plt.vlines(x=n_components, ymin=0, ymax=pca.explained_variance_ratio_.max(), colors=(0.6,0,0.2))\n",
    "plt.show()"
   ]
  },
  {
   "cell_type": "code",
   "execution_count": 42,
   "metadata": {},
   "outputs": [
    {
     "name": "stdout",
     "output_type": "stream",
     "text": [
      "[[19  1  2  0  0  0]\n",
      " [ 0 18  0  0  0  0]\n",
      " [ 0  0 17  0  0  0]\n",
      " [ 0  0  0 18  0  0]\n",
      " [ 0  0  0  1 20  0]\n",
      " [ 0  0  0  1  0 20]]\n",
      "                    precision    recall  f1-score   support\n",
      "\n",
      "      client_pc_50       0.86      1.00      0.93        19\n",
      "     client_pc_200       1.00      0.95      0.97        19\n",
      "client_pc_200_wall       1.00      0.89      0.94        19\n",
      "      client_pi_50       1.00      0.90      0.95        20\n",
      "     client_pi_200       0.95      1.00      0.98        20\n",
      "client_pi_200_wall       0.95      1.00      0.98        20\n",
      "\n",
      "         micro avg       0.96      0.96      0.96       117\n",
      "         macro avg       0.96      0.96      0.96       117\n",
      "      weighted avg       0.96      0.96      0.96       117\n",
      "       samples avg       0.96      0.96      0.96       117\n",
      "\n",
      "0.9572649572649573\n"
     ]
    }
   ],
   "source": [
    "# KNN WORKS VERY WELL!! Fast with PCA.\n",
    "from sklearn.neighbors import KNeighborsClassifier\n",
    "from sklearn.metrics import confusion_matrix, classification_report, accuracy_score\n",
    "\n",
    "# Making KNN\n",
    "knn = KNeighborsClassifier(\n",
    "    n_neighbors=3,\n",
    "    weights='uniform',\n",
    "    algorithm='auto',\n",
    "    leaf_size=30,\n",
    "    p=2,\n",
    "    metric='minkowski',\n",
    "    metric_params=None,\n",
    "    n_jobs=None\n",
    ")\n",
    "\n",
    "# Training KNN\n",
    "# knn.fit(X_train_flat, y_train)\n",
    "knn.fit(X_train_pca, y_train)\n",
    "\n",
    "# Evaluating KNN\n",
    "# y_pred = knn.predict(X_test_flat)\n",
    "y_pred = knn.predict(X_test_pca)\n",
    "\n",
    "# Showing evaluation confusion matrix\n",
    "cm = confusion_matrix(\n",
    "    lb.inverse_transform(y_pred),\n",
    "    lb.inverse_transform(y_test),\n",
    ") # cols = actual, rows = predicted\n",
    "print(cm)\n",
    "print(classification_report(y_test, y_pred, target_names=classes))\n",
    "print(accuracy_score(y_test, y_pred))\n"
   ]
  },
  {
   "cell_type": "code",
   "execution_count": 43,
   "metadata": {},
   "outputs": [
    {
     "name": "stdout",
     "output_type": "stream",
     "text": [
      "[[19  1  2  2  0  0]\n",
      " [ 0 18  0  0  0  0]\n",
      " [ 0  0 17  0  0  0]\n",
      " [ 0  0  0 16  1  0]\n",
      " [ 0  0  0  0 19  2]\n",
      " [ 0  0  0  2  0 18]]\n",
      "                    precision    recall  f1-score   support\n",
      "\n",
      "      client_pc_50       0.90      1.00      0.95        19\n",
      "     client_pc_200       1.00      0.95      0.97        19\n",
      "client_pc_200_wall       1.00      0.89      0.94        19\n",
      "      client_pi_50       0.94      0.80      0.86        20\n",
      "     client_pi_200       0.86      0.95      0.90        20\n",
      "client_pi_200_wall       0.91      1.00      0.95        20\n",
      "\n",
      "         micro avg       0.93      0.93      0.93       117\n",
      "         macro avg       0.94      0.93      0.93       117\n",
      "      weighted avg       0.94      0.93      0.93       117\n",
      "       samples avg       0.92      0.93      0.92       117\n",
      "\n",
      "0.905982905982906\n"
     ]
    },
    {
     "name": "stderr",
     "output_type": "stream",
     "text": [
      "/Users/timothylee/miniconda3/envs/honours_env/lib/python3.11/site-packages/sklearn/metrics/_classification.py:1344: UndefinedMetricWarning: Precision and F-score are ill-defined and being set to 0.0 in samples with no predicted labels. Use `zero_division` parameter to control this behavior.\n",
      "  _warn_prf(average, modifier, msg_start, len(result))\n"
     ]
    }
   ],
   "source": [
    "# SVM classifier with RBF. Not as fast or accurate as KNN\n",
    "from sklearn.svm import SVC\n",
    "from sklearn.multiclass import OneVsRestClassifier\n",
    "from sklearn.metrics import confusion_matrix, classification_report, accuracy_score\n",
    "\n",
    "# Making RBF SVM\n",
    "svc = SVC(\n",
    "    C=2.0, # Regularisation parameter. Reg strength is inversely proportional to C\n",
    "    kernel='rbf', # {‘linear’, ‘poly’, ‘rbf’, ‘sigmoid’, ‘precomputed’} or callable\n",
    "    # degree=3, # Degree for poly kernels\n",
    "    gamma='scale', # {‘scale’, ‘auto’} or float\n",
    "    coef0=0.0, # Independent term in kernel function. It is only significant in ‘poly’ and ‘sigmoid’.\n",
    "    shrinking=True, # Whether to use the shrinking heuristic\n",
    "    probability=False, # Allows predict_proba but slows down process\n",
    "    tol=0.001, # Tolerance for stopping criterion.\n",
    "    cache_size=200, # Specify the size of the kernel cache in MB\n",
    "    class_weight=None, # Set the parameter C of class i to class_weight[i]*C. Keep as none for equal weights across classes\n",
    "    verbose=False, # Enable verbose output\n",
    "    max_iter=-1, # Hard limit on iterations within solver, or -1 for no limit\n",
    "    decision_function_shape='ovo', # {‘ovo’, ‘ovr’}\n",
    "    break_ties=False,\n",
    "    random_state=None\n",
    ")\n",
    "svc_mc = OneVsRestClassifier(svc)\n",
    "\n",
    "# Training KNN\n",
    "# svc_mc.fit(X_train_flat, y_train)\n",
    "svc_mc.fit(X_train_pca, y_train)\n",
    "\n",
    "# Evaluating KNN\n",
    "# y_pred = svc_mc.predict(X_test_flat)\n",
    "y_pred = svc_mc.predict(X_test_pca)\n",
    "\n",
    "# Showing evaluation confusion matrix\n",
    "cm = confusion_matrix(\n",
    "    lb.inverse_transform(y_pred),\n",
    "    lb.inverse_transform(y_test),\n",
    ")\n",
    "print(cm)\n",
    "print(classification_report(y_test, y_pred, target_names=classes))\n",
    "print(accuracy_score(y_test, y_pred))"
   ]
  },
  {
   "cell_type": "code",
   "execution_count": 63,
   "metadata": {},
   "outputs": [
    {
     "name": "stdout",
     "output_type": "stream",
     "text": [
      "4/4 [==============================] - 0s 5ms/step\n",
      "[[ 0  0  0  0  0  0]\n",
      " [ 0  0  0  0  0  0]\n",
      " [19 19 19 20 20 20]\n",
      " [ 0  0  0  0  0  0]\n",
      " [ 0  0  0  0  0  0]\n",
      " [ 0  0  0  0  0  0]]\n",
      "                    precision    recall  f1-score   support\n",
      "\n",
      "      client_pc_50       0.00      0.00      0.00        19\n",
      "     client_pc_200       0.00      0.00      0.00        19\n",
      "client_pc_200_wall       0.16      1.00      0.28        19\n",
      "      client_pi_50       0.00      0.00      0.00        20\n",
      "     client_pi_200       0.00      0.00      0.00        20\n",
      "client_pi_200_wall       0.00      0.00      0.00        20\n",
      "\n",
      "         micro avg       0.16      0.16      0.16       117\n",
      "         macro avg       0.03      0.17      0.05       117\n",
      "      weighted avg       0.03      0.16      0.05       117\n",
      "       samples avg       0.16      0.16      0.16       117\n",
      "\n",
      "0.1623931623931624\n"
     ]
    },
    {
     "name": "stderr",
     "output_type": "stream",
     "text": [
      "/Users/timothylee/miniconda3/envs/honours_env/lib/python3.11/site-packages/sklearn/metrics/_classification.py:1344: UndefinedMetricWarning: Precision and F-score are ill-defined and being set to 0.0 in labels with no predicted samples. Use `zero_division` parameter to control this behavior.\n",
      "  _warn_prf(average, modifier, msg_start, len(result))\n"
     ]
    }
   ],
   "source": [
    "import tensorflow as tf\n",
    "from tensorflow.keras import layers\n",
    "from sklearn.metrics import confusion_matrix, classification_report, accuracy_score\n",
    "\n",
    "# Making MLP model with Entire CSI matrix.\n",
    "model = tf.keras.Sequential([\n",
    "    layers.Input(shape=X_train.shape[1:]),\n",
    "    layers.Conv2D(16, (10, 24), (5, 2), padding=\"valid\", activation='relu'),\n",
    "    layers.MaxPooling2D((2, 2)),\n",
    "    layers.Conv2D(16, (3, 3), 2, padding=\"valid\", activation='relu'),\n",
    "    layers.Flatten(),\n",
    "    layers.Dense(64, activation='relu'),\n",
    "    layers.Dropout(0.5),\n",
    "    layers.Dense(len(lb.classes_), activation='softmax')\n",
    "])\n",
    "\n",
    "# Compile the model\n",
    "model.compile(\n",
    "    optimizer=tf.keras.optimizers.Adam(learning_rate=0.01),\n",
    "    loss=tf.keras.losses.CategoricalCrossentropy(),\n",
    "    metrics=[\n",
    "        tf.keras.metrics.CategoricalAccuracy(),\n",
    "    ],\n",
    ")\n",
    "\n",
    "# Show model architecture\n",
    "model.summary()\n",
    "\n",
    "# Training the model\n",
    "history = model.fit(\n",
    "    X_train,\n",
    "    y_train,\n",
    "    epochs=10,\n",
    "    batch_size=16,\n",
    "    validation_split=0.2,\n",
    "    verbose=True,\n",
    ")\n",
    "\n",
    "# Evaluating the model\n",
    "y_pred = model.predict(X_test)\n",
    "y_pred = tf.keras.utils.to_categorical(y_pred.argmax(axis=1), len(lb.classes_)).astype(int)\n",
    "\n",
    "cm = confusion_matrix(\n",
    "    lb.inverse_transform(y_pred),\n",
    "    lb.inverse_transform(y_test)\n",
    ")\n",
    "print(cm)\n",
    "print(classification_report(y_test, y_pred, target_names=classes))\n",
    "print(accuracy_score(y_test, y_pred))"
   ]
  },
  {
   "cell_type": "code",
   "execution_count": 72,
   "metadata": {},
   "outputs": [
    {
     "name": "stdout",
     "output_type": "stream",
     "text": [
      "Epoch 1/10\n",
      "24/24 [==============================] - 1s 8ms/step - loss: 1.1495 - categorical_accuracy: 0.5499 - val_loss: 0.6232 - val_categorical_accuracy: 0.7849\n",
      "Epoch 2/10\n",
      "24/24 [==============================] - 0s 3ms/step - loss: 0.5334 - categorical_accuracy: 0.7925 - val_loss: 0.3928 - val_categorical_accuracy: 0.8280\n",
      "Epoch 3/10\n",
      "24/24 [==============================] - 0s 3ms/step - loss: 0.4473 - categorical_accuracy: 0.8410 - val_loss: 0.2769 - val_categorical_accuracy: 0.8925\n",
      "Epoch 4/10\n",
      "24/24 [==============================] - 0s 3ms/step - loss: 0.3661 - categorical_accuracy: 0.8733 - val_loss: 0.2396 - val_categorical_accuracy: 0.9247\n",
      "Epoch 5/10\n",
      "24/24 [==============================] - 0s 3ms/step - loss: 0.2821 - categorical_accuracy: 0.9137 - val_loss: 0.2514 - val_categorical_accuracy: 0.8925\n",
      "Epoch 6/10\n",
      "24/24 [==============================] - 0s 3ms/step - loss: 0.2654 - categorical_accuracy: 0.9030 - val_loss: 0.2075 - val_categorical_accuracy: 0.9462\n",
      "Epoch 7/10\n",
      "24/24 [==============================] - 0s 3ms/step - loss: 0.2807 - categorical_accuracy: 0.8922 - val_loss: 0.1834 - val_categorical_accuracy: 0.9570\n",
      "Epoch 8/10\n",
      "24/24 [==============================] - 0s 3ms/step - loss: 0.2750 - categorical_accuracy: 0.9111 - val_loss: 0.2035 - val_categorical_accuracy: 0.9140\n",
      "Epoch 9/10\n",
      "24/24 [==============================] - 0s 3ms/step - loss: 0.2157 - categorical_accuracy: 0.9245 - val_loss: 0.1786 - val_categorical_accuracy: 0.9570\n",
      "Epoch 10/10\n",
      "24/24 [==============================] - 0s 3ms/step - loss: 0.1801 - categorical_accuracy: 0.9353 - val_loss: 0.2088 - val_categorical_accuracy: 0.9677\n",
      "15/15 [==============================] - 0s 843us/step\n",
      "[[67  0  1  0  0  0]\n",
      " [ 3 76  0  0  0  0]\n",
      " [ 5  0 73  0  0  0]\n",
      " [ 0  0  0 72  2  0]\n",
      " [ 0  0  0  6 77  1]\n",
      " [ 0  0  0  2  1 78]]\n",
      "                    precision    recall  f1-score   support\n",
      "\n",
      "      client_pc_50       0.99      0.89      0.94        75\n",
      "     client_pc_200       0.96      1.00      0.98        76\n",
      "client_pc_200_wall       0.94      0.99      0.96        74\n",
      "      client_pi_50       0.97      0.90      0.94        80\n",
      "     client_pi_200       0.92      0.96      0.94        80\n",
      "client_pi_200_wall       0.96      0.99      0.97        79\n",
      "\n",
      "         micro avg       0.95      0.95      0.95       464\n",
      "         macro avg       0.96      0.95      0.95       464\n",
      "      weighted avg       0.96      0.95      0.95       464\n",
      "       samples avg       0.95      0.95      0.95       464\n",
      "\n",
      "0.9547413793103449\n"
     ]
    }
   ],
   "source": [
    "import tensorflow as tf\n",
    "from tensorflow.keras import layers\n",
    "from sklearn.metrics import confusion_matrix, classification_report, accuracy_score\n",
    "\n",
    "# Making MLP model with PCA\n",
    "model = tf.keras.Sequential([\n",
    "    layers.Input(shape=X_train_pca.shape[1:]),\n",
    "    layers.Flatten(),\n",
    "    layers.Dense(64, activation='relu'),\n",
    "    layers.Dropout(0.5),\n",
    "    layers.Dense(32, activation='relu'),\n",
    "    layers.Dense(len(lb.classes_), activation='softmax')\n",
    "])\n",
    "\n",
    "# Compile the model\n",
    "model.compile(\n",
    "    optimizer=tf.keras.optimizers.Adam(learning_rate=0.01),\n",
    "    loss=tf.keras.losses.CategoricalCrossentropy(),\n",
    "    # loss=tf.keras.losses.BinaryCrossentropy(),\n",
    "    metrics=[\n",
    "        # tf.keras.metrics.Accuracy(),\n",
    "        tf.keras.metrics.CategoricalAccuracy(),\n",
    "    ],\n",
    ")\n",
    "\n",
    "# Show model architecture\n",
    "# model.summary()\n",
    "\n",
    "# Training the model\n",
    "history = model.fit(\n",
    "    X_train_pca,\n",
    "    y_train,\n",
    "    epochs=10,\n",
    "    batch_size=16,\n",
    "    validation_split=0.2,\n",
    "    verbose=True,\n",
    ")\n",
    "\n",
    "# Evaluating the model\n",
    "y_pred = model.predict(X_train_pca)\n",
    "y_pred = tf.keras.utils.to_categorical(y_pred.argmax(axis=1), len(lb.classes_)).astype(int)\n",
    "\n",
    "cm = confusion_matrix(\n",
    "    lb.inverse_transform(y_pred),\n",
    "    lb.inverse_transform(y_train)\n",
    ")\n",
    "print(cm)\n",
    "print(classification_report(y_train, y_pred, target_names=classes))\n",
    "print(accuracy_score(y_train, y_pred))"
   ]
  },
  {
   "cell_type": "code",
   "execution_count": 73,
   "metadata": {},
   "outputs": [
    {
     "name": "stdout",
     "output_type": "stream",
     "text": [
      "1/4 [======>.......................] - ETA: 0s"
     ]
    },
    {
     "name": "stdout",
     "output_type": "stream",
     "text": [
      "4/4 [==============================] - 0s 2ms/step\n",
      "[[17  0  1  0  0  0]\n",
      " [ 0 19  0  0  0  0]\n",
      " [ 2  0 18  0  0  0]\n",
      " [ 0  0  0 18  1  0]\n",
      " [ 0  0  0  1 19  2]\n",
      " [ 0  0  0  1  0 18]]\n",
      "                    precision    recall  f1-score   support\n",
      "\n",
      "      client_pc_50       0.94      0.89      0.92        19\n",
      "     client_pc_200       1.00      1.00      1.00        19\n",
      "client_pc_200_wall       0.90      0.95      0.92        19\n",
      "      client_pi_50       0.95      0.90      0.92        20\n",
      "     client_pi_200       0.86      0.95      0.90        20\n",
      "client_pi_200_wall       0.95      0.90      0.92        20\n",
      "\n",
      "         micro avg       0.93      0.93      0.93       117\n",
      "         macro avg       0.93      0.93      0.93       117\n",
      "      weighted avg       0.93      0.93      0.93       117\n",
      "       samples avg       0.93      0.93      0.93       117\n",
      "\n",
      "0.9316239316239316\n"
     ]
    }
   ],
   "source": [
    "# Evaluating the model\n",
    "y_pred = model.predict(X_test_pca)\n",
    "y_pred = tf.keras.utils.to_categorical(y_pred.argmax(axis=1), len(lb.classes_)).astype(int)\n",
    "\n",
    "cm = confusion_matrix(\n",
    "    lb.inverse_transform(y_pred),\n",
    "    lb.inverse_transform(y_test)\n",
    ")\n",
    "print(cm)\n",
    "print(classification_report(y_test, y_pred, target_names=classes))\n",
    "print(accuracy_score(y_test, y_pred))"
   ]
  },
  {
   "cell_type": "code",
   "execution_count": null,
   "metadata": {},
   "outputs": [],
   "source": []
  }
 ],
 "metadata": {
  "kernelspec": {
   "display_name": "honours_env",
   "language": "python",
   "name": "python3"
  },
  "language_info": {
   "codemirror_mode": {
    "name": "ipython",
    "version": 3
   },
   "file_extension": ".py",
   "mimetype": "text/x-python",
   "name": "python",
   "nbconvert_exporter": "python",
   "pygments_lexer": "ipython3",
   "version": "3.11.5"
  },
  "orig_nbformat": 4
 },
 "nbformat": 4,
 "nbformat_minor": 2
}
